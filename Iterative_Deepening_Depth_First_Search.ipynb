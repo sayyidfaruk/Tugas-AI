{
  "nbformat": 4,
  "nbformat_minor": 0,
  "metadata": {
    "colab": {
      "provenance": []
    },
    "kernelspec": {
      "name": "python3",
      "display_name": "Python 3"
    },
    "language_info": {
      "name": "python"
    }
  },
  "cells": [
    {
      "cell_type": "markdown",
      "source": [
        "**Nama : Sayyid Faruk Romdoni**\n",
        "**NIM : 2106071**"
      ],
      "metadata": {
        "id": "W_3XQSCiQIrg"
      }
    },
    {
      "cell_type": "code",
      "execution_count": 1,
      "metadata": {
        "colab": {
          "base_uri": "https://localhost:8080/"
        },
        "id": "-f1lwEr9NVs5",
        "outputId": "5856e1b8-ba75-4503-f7de-528469012100"
      },
      "outputs": [
        {
          "output_type": "stream",
          "name": "stdout",
          "text": [
            "Target is reachable from source within max depth\n"
          ]
        }
      ],
      "source": [
        "from collections import defaultdict\n",
        "\n",
        "class Graph:\n",
        "  def __init__(self, vertices):\n",
        "    self.v = vertices\n",
        "\n",
        "    self.graph = defaultdict(list)\n",
        "  \n",
        "  def addEdge(self,u,v):\n",
        "    self.graph[u].append(v)\n",
        "  \n",
        "  def DLS(self,src,target,maxDepth):\n",
        "    if src == target : return True\n",
        "\n",
        "    if maxDepth <= 0 : return False\n",
        "\n",
        "    for i in self.graph[src]:\n",
        "      if(self.DLS(i,target,maxDepth-1)):\n",
        "        return True\n",
        "    return False\n",
        "\n",
        "  def IDDFS(self,src, target,maxDepth):\n",
        "    for i in range(maxDepth):\n",
        "      if(self.DLS(src,target,i)):\n",
        "        return True\n",
        "    return False\n",
        "\n",
        "g = Graph (7);\n",
        "g.addEdge(0,1)\n",
        "g.addEdge(0,2)\n",
        "g.addEdge(0,4)\n",
        "g.addEdge(1,3)\n",
        "g.addEdge(1,5)\n",
        "g.addEdge(2,6)\n",
        "\n",
        "target = 6; maxDepth = 3; src=0\n",
        "\n",
        "if g.IDDFS(src,target,maxDepth) == True:\n",
        "  print (\"Target is reachable from source \" +\"within max depth\")\n",
        "else :\n",
        "  print (\"Target is NOT reachable from source \" + \"within max depth\")"
      ]
    }
  ]
}