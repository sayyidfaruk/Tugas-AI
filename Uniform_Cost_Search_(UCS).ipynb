{
  "nbformat": 4,
  "nbformat_minor": 0,
  "metadata": {
    "colab": {
      "provenance": []
    },
    "kernelspec": {
      "name": "python3",
      "display_name": "Python 3"
    },
    "language_info": {
      "name": "python"
    }
  },
  "cells": [
    {
      "cell_type": "markdown",
      "source": [
        "**Nama : Sayyid Faruk Romdoni**\n",
        "**NIM : 2106071**"
      ],
      "metadata": {
        "id": "W_3XQSCiQIrg"
      }
    },
    {
      "cell_type": "code",
      "execution_count": 1,
      "metadata": {
        "colab": {
          "base_uri": "https://localhost:8080/"
        },
        "id": "QPVyLUNmH5Pu",
        "outputId": "8a7a0d37-9201-4ac7-bf4b-691fb020c0a2"
      },
      "outputs": [
        {
          "output_type": "stream",
          "name": "stdout",
          "text": [
            "minimum cost from 0 to 6 is =  3\n"
          ]
        }
      ],
      "source": [
        "def uniform_cost_search(goal, start):\n",
        "  global graph, cost\n",
        "  answer  = []\n",
        "\n",
        "  queue = []\n",
        "\n",
        "  for i in range(len(goal)):\n",
        "    answer.append(10**8)\n",
        "\n",
        "  queue.append([0, start])\n",
        "\n",
        "  visited = {}\n",
        "\n",
        "  count = 0\n",
        "\n",
        "  while(len(queue)>0):\n",
        "    queue = sorted(queue)\n",
        "    p = queue[-1]\n",
        "    del queue[-1]\n",
        "    p[0] *= -1\n",
        "    \n",
        "    if (p[1] in goal):\n",
        "      index = goal.index(p[1])\n",
        "      if (answer[index] == 10**8):\n",
        "        count += 1\n",
        "      if (answer[index] > p[0]):\n",
        "        answer[index] = p[0]\n",
        "\n",
        "      del queue[-1]\n",
        "\n",
        "      queue = sorted(queue)\n",
        "      if(count == len(goal)):\n",
        "        return answer\n",
        "\n",
        "    if (p[1] not in visited):\n",
        "      for i in range(len(graph[p[1]])):\n",
        "        queue.append([(p[0] +cost[(p[1], graph[p[1]][i])])*-1, graph[p[1]][i]])\n",
        "\n",
        "    visited[p[1]] = 1\n",
        "\n",
        "  return answer\n",
        "\n",
        "if __name__ == '__main__':\n",
        "  graph,cost = [[]for i in range(8)],{}\n",
        "\n",
        "  graph[0].append(1)\n",
        "  graph[0].append(3)\n",
        "  graph[3].append(1)\n",
        "  graph[3].append(6)\n",
        "  graph[3].append(4)\n",
        "  graph[1].append(6)\n",
        "  graph[4].append(2)\n",
        "  graph[4].append(5)\n",
        "  graph[2].append(1)\n",
        "  graph[5].append(2)\n",
        "  graph[5].append(6)\n",
        "  graph[6].append(4)\n",
        "\n",
        "  cost[(0,1)] = 2\n",
        "  cost[(0,3)] = 5\n",
        "  cost[(1,6)] = 1\n",
        "  cost[(3,1)] = 5\n",
        "  cost[(3,6)] = 6\n",
        "  cost[(3,4)] = 2\n",
        "  cost[(2,1)] = 4\n",
        "  cost[(4,2)] = 4\n",
        "  cost[(4,5)] = 3\n",
        "  cost[(5,2)] = 6\n",
        "  cost[(5,6)] = 3\n",
        "  cost[(6,4)] = 7\n",
        "\n",
        "  goal = []\n",
        "\n",
        "  goal.append(6)\n",
        "\n",
        "  answer = uniform_cost_search(goal, 0)\n",
        "\n",
        "  print(\"minimum cost from 0 to 6 is = \", answer[0])\n",
        "\n",
        "\n",
        "\n",
        "\n",
        "      "
      ]
    }
  ]
}